{
  "nbformat": 4,
  "nbformat_minor": 0,
  "metadata": {
    "colab": {
      "provenance": [],
      "authorship_tag": "ABX9TyPsoN5atqHV6XmftRqGdi5k",
      "include_colab_link": true
    },
    "kernelspec": {
      "name": "python3",
      "display_name": "Python 3"
    },
    "language_info": {
      "name": "python"
    }
  },
  "cells": [
    {
      "cell_type": "markdown",
      "metadata": {
        "id": "view-in-github",
        "colab_type": "text"
      },
      "source": [
        "<a href=\"https://colab.research.google.com/github/feomedeirosdev/ml-courseira/blob/main/001_regrecao_linear.ipynb\" target=\"_parent\"><img src=\"https://colab.research.google.com/assets/colab-badge.svg\" alt=\"Open In Colab\"/></a>"
      ]
    },
    {
      "cell_type": "code",
      "execution_count": null,
      "metadata": {
        "id": "JjZgtDcmSjxG"
      },
      "outputs": [],
      "source": [
        "import numpy as np\n",
        "\n",
        "class LinearRegression:\n",
        "    def __init__(self, x, y):\n",
        "        self.x = x\n",
        "        self.y = y\n",
        "        self.__correlation_coefficient = self.__correlacao()\n",
        "        self.__inclination = self.__inclinacao()\n",
        "        self.__intercept = self.__interceptacao()\n",
        "\n",
        "    def __correlacao(self):\n",
        "        covariacao = np.cov(self.x, self.y, bias=True)[0][1]  # valor da covariância entre x e y\n",
        "        std_x = np.std(self.x)\n",
        "        std_y = np.std(self.y)\n",
        "        return covariacao / (std_x * std_y)\n",
        "\n",
        "    def __inclinacao(self):\n",
        "        std_x = np.std(self.x)\n",
        "        std_y = np.std(self.y)\n",
        "        return self.__correlation_coefficient * (std_y / std_x)\n",
        "\n",
        "    def __interceptacao(self):\n",
        "        media_x = np.mean(self.x)\n",
        "        media_y = np.mean(self.y)\n",
        "        return media_y - (self.__inclination * media_x)\n",
        "\n",
        "    def previsao(self, valor):  # este método pode ser público\n",
        "        return self.__intercept + (self.__inclination * valor)\n"
      ]
    },
    {
      "cell_type": "code",
      "source": [
        "x = np.array([1, 2, 3, 4, 5])\n",
        "y = np.array([2, 4, 6, 8, 10])\n",
        "\n",
        "lr = LinearRegression(x, y)\n",
        "print(lr.previsao(6))  # Deve retornar 12\n"
      ],
      "metadata": {
        "colab": {
          "base_uri": "https://localhost:8080/"
        },
        "id": "Mz7QfPpXaG5M",
        "outputId": "40bd6cb1-32a7-4e52-ac2d-b974de06567a"
      },
      "execution_count": null,
      "outputs": [
        {
          "output_type": "stream",
          "name": "stdout",
          "text": [
            "11.999999999999998\n"
          ]
        }
      ]
    },
    {
      "cell_type": "code",
      "source": [],
      "metadata": {
        "id": "UY_AROyigpT_"
      },
      "execution_count": null,
      "outputs": []
    }
  ]
}